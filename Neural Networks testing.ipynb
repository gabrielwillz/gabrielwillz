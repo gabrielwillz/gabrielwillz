{
 "cells": [
  {
   "cell_type": "code",
   "execution_count": null,
   "id": "ethical-switch",
   "metadata": {},
   "outputs": [],
   "source": [
    "# First step, you have to install pybrain3 for runing the code\n",
    "# pip3 install pybrain3\n",
    "# Try to excute the code on jupyter\n",
    "\n",
    "from pybrain3.tools.shortcuts import buildNetwork\n",
    "from pybrain3.datasets import SupervisedDataSet\n",
    "from pybrain3.supervised.trainers import BackpropTrainer\n",
    "\n",
    "# Features 0.8+0.4 -> 0.7\n",
    "# Dataset\n",
    "\n",
    "ds = SupervisedDataSet(2, 1)\n",
    "\n",
    "# Date -> Sleep time, Study time, Grade \n",
    "\n",
    "ds.addSample((0.8, 0.4), (0.7))\n",
    "ds.addSample((0.5, 0.7), (0.5))\n",
    "ds.addSample((1.0, 0.7), (0.95))\n",
    "\n",
    "# Creating neural networks\n",
    "# 2 neural input, 4 hidden, 1 outputs -> bias\n",
    "\n",
    "nn = buildNetwork(2, 4, 1, bias=True)\n",
    "\n",
    "#Training\n",
    "\n",
    "trainer = BackpropTrainer(nn, ds)\n",
    "\n",
    "for i in range(2000):\n",
    "    print(trainer.train())\n",
    "\n",
    "# Code execution\n",
    "\n",
    "while True:\n",
    "    sleep_time = float(input('How long did you sleep? '))\n",
    "    study_time = float(input('How long did you study? '))\n",
    "    z = nn.activate((sleep_time, study_time))[0] * 10.0\n",
    "    print(f'grade accuracy: {str(z)}')"
   ]
  },
  {
   "cell_type": "code",
   "execution_count": null,
   "id": "lined-official",
   "metadata": {},
   "outputs": [],
   "source": []
  }
 ],
 "metadata": {
  "kernelspec": {
   "display_name": "Python 3",
   "language": "python",
   "name": "python3"
  },
  "language_info": {
   "codemirror_mode": {
    "name": "ipython",
    "version": 3
   },
   "file_extension": ".py",
   "mimetype": "text/x-python",
   "name": "python",
   "nbconvert_exporter": "python",
   "pygments_lexer": "ipython3",
   "version": "3.9.1"
  }
 },
 "nbformat": 4,
 "nbformat_minor": 5
}
