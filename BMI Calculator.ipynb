{
 "cells": [
  {
   "cell_type": "code",
   "execution_count": null,
   "id": "possible-printing",
   "metadata": {},
   "outputs": [],
   "source": [
    "weight = int(input(\"What's your weight: \"))\n",
    "height = float(input(\"What's your height: \"))\n",
    "if weight/height**2 < 18.5:\n",
    "    print (\"Underweight\")\n",
    "    \n",
    "if weight/height**2 >= 18.5 and weight/height**2 < 25:\n",
    "    print (\"Normal\")\n",
    "    \n",
    "if weight/height**2 >= 25 and weight/height**2 < 30:\n",
    "    print (\"Overweight\")\n",
    "    \n",
    "if weight/height**2 >= 30:\n",
    "    print (\"Obesity\")"
   ]
  },
  {
   "cell_type": "code",
   "execution_count": null,
   "id": "lesbian-grave",
   "metadata": {},
   "outputs": [],
   "source": []
  }
 ],
 "metadata": {
  "kernelspec": {
   "display_name": "Python 3",
   "language": "python",
   "name": "python3"
  },
  "language_info": {
   "codemirror_mode": {
    "name": "ipython",
    "version": 3
   },
   "file_extension": ".py",
   "mimetype": "text/x-python",
   "name": "python",
   "nbconvert_exporter": "python",
   "pygments_lexer": "ipython3",
   "version": "3.9.1"
  }
 },
 "nbformat": 4,
 "nbformat_minor": 5
}
